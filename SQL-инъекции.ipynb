{
  "nbformat": 4,
  "nbformat_minor": 0,
  "metadata": {
    "colab": {
      "provenance": [],
      "mount_file_id": "1NBv9VgWyuZGWeSasSwzSvTYA3mE4V8et",
      "authorship_tag": "ABX9TyPJUXkMwI7uao9FG/rMiICJ",
      "include_colab_link": true
    },
    "kernelspec": {
      "name": "python3",
      "display_name": "Python 3"
    },
    "language_info": {
      "name": "python"
    }
  },
  "cells": [
    {
      "cell_type": "markdown",
      "metadata": {
        "id": "view-in-github",
        "colab_type": "text"
      },
      "source": [
        "<a href=\"https://colab.research.google.com/github/ALisichka009/PUZANOVA-2303-Lab1/blob/Lab2/SQL-%D0%B8%D0%BD%D1%8A%D0%B5%D0%BA%D1%86%D0%B8%D0%B8.ipynb\" target=\"_parent\"><img src=\"https://colab.research.google.com/assets/colab-badge.svg\" alt=\"Open In Colab\"/></a>"
      ]
    },
    {
      "cell_type": "code",
      "source": [
        "import pandas as pd\n",
        "import hashlib\n",
        "import re\n",
        "from cryptography.fernet import Fernet"
      ],
      "metadata": {
        "id": "OI-VlI8pDQHu"
      },
      "execution_count": null,
      "outputs": []
    },
    {
      "cell_type": "code",
      "source": [
        "from google.colab import drive\n",
        "drive.mount('/content/drive')"
      ],
      "metadata": {
        "colab": {
          "base_uri": "https://localhost:8080/"
        },
        "id": "UZz8qqZmExZL",
        "outputId": "c20e397d-980a-40eb-f704-9579a7e81e03"
      },
      "execution_count": 66,
      "outputs": [
        {
          "output_type": "stream",
          "name": "stdout",
          "text": [
            "Drive already mounted at /content/drive; to attempt to forcibly remount, call drive.mount(\"/content/drive\", force_remount=True).\n"
          ]
        }
      ]
    },
    {
      "cell_type": "code",
      "source": [
        "file_path = \"/content/drive/MyDrive/Laptop_price=.csv\"\n",
        "try:\n",
        "  df = pd.read_csv(file_path)\n",
        "except Exception as e:\n",
        "  print (f\"ошибка загрузки файла: {e}\")"
      ],
      "metadata": {
        "id": "B9pJm0-dDgSI"
      },
      "execution_count": 76,
      "outputs": []
    },
    {
      "cell_type": "code",
      "source": [
        "# Проверка CSV на уязвимости и добавление проверки на пробелы\n",
        "def check_csv_injection (df):\n",
        "  dangerous_chars = ('=', '+', '-', '@', ' ')\n",
        "  for col in df.select_dtypes(include=['object']).columns:\n",
        "    if df[col].astype(str).apply(lambda x: x.startswith(dangerous_chars)).any():\n",
        "        print (f\"Обнаружены потенциальные CSV-инъекции в столбце {col}!\")\n",
        "    else:\n",
        "        print (f\"Столбец {col} безопасен.\")\n",
        "\n",
        "check_csv_injection(df)\n",
        "\n",
        "\n"
      ],
      "metadata": {
        "colab": {
          "base_uri": "https://localhost:8080/"
        },
        "id": "aSNSIg-5FTH-",
        "outputId": "d722caae-170a-42c9-b40a-cd6072ba5264"
      },
      "execution_count": null,
      "outputs": [
        {
          "output_type": "stream",
          "name": "stdout",
          "text": [
            "Обнаружены потенциальные CSV-инъекции в столбце Brand!\n"
          ]
        }
      ]
    },
    {
      "cell_type": "code",
      "source": [
        "# Фильтрация данных от SQL-инъекций и XSS-атак\n",
        "def clean_input(value):\n",
        "  sql_keywords = [\"SELECT\", \"DROP\", \"DELETE\", \"INSERT\", \"UPDATE\", \"ALERT\", \"UNION\"]\n",
        "  xss_patterns = [r'<script.*?>.*?</script>', r'javascript:.*', r'onerror=.*']\n",
        "\n",
        "   # Проверка на SQL-ключевые слова\n",
        "  for keyword in sql_keywords:\n",
        "    if keyword.lower() in value.lower():\n",
        "      return \"[BLOCKED]\"\n",
        "\n",
        "  # Проверка на комментарии SQL\n",
        "    if any(char in value for char in ['--']):\n",
        "        return \"[BLOCKED]\"\n",
        "\n",
        "  return value\n",
        "\n",
        "df = df.map(lambda x: clean_input(str(x)) if isinstance(x, str) else x)\n",
        "print(\"Фильтрация данных завершена.\")"
      ],
      "metadata": {
        "colab": {
          "base_uri": "https://localhost:8080/"
        },
        "id": "6msOPPUdM3AT",
        "outputId": "385d6453-da30-4770-b143-334431442514"
      },
      "execution_count": 82,
      "outputs": [
        {
          "output_type": "stream",
          "name": "stdout",
          "text": [
            "Фильтрация данных завершена.\n"
          ]
        }
      ]
    },
    {
      "cell_type": "code",
      "source": [
        "#Шифрование данных\n",
        "key = Fernet.generate_key()\n",
        "cipher = Fernet(key)\n",
        "\n",
        "def encrypt_ram(ram):\n",
        "  return cipher.encrypt(str(ram).encode()).decode()\n",
        "df['ram_Encrypted'] = df['RAM_Size'].apply(encrypt_ram)\n",
        "print(\"Столбец ram_Encrypted зашифрован\")\n",
        "\n",
        "#Дешифрование данных\n",
        "\n",
        "def decrypt_ram(encrypted_ram, row_index):\n",
        "  if row_index < 5:  # Дешифруем только первые 5 строк\n",
        "        return cipher.decrypt(encrypted_ram.encode()).decode()\n",
        "  else:\n",
        "        return encrypted_ram  # Оставляем зашифрованным\n",
        "\n",
        "df['ram_DEncrypted'] = df.reset_index().apply(\n",
        "    lambda x: decrypt_ram(x['ram_Encrypted'], x['index']), axis=1)\n",
        "print(\"Столбец ram_Encrypted Расшифрован\")\n",
        "\n",
        "output_path = \"/content/drive/MyDrive/Laptop_desecured.csv\"\n",
        "df.to_csv(output_path, index=False)\n",
        "print(f\"Файл сохранен: {output_path}\")"
      ],
      "metadata": {
        "colab": {
          "base_uri": "https://localhost:8080/"
        },
        "id": "dBqVJ-Il1QuR",
        "outputId": "49e7e6db-0c62-4198-e074-48f7b363237d"
      },
      "execution_count": 83,
      "outputs": [
        {
          "output_type": "stream",
          "name": "stdout",
          "text": [
            "Столбец ram_Encrypted зашифрован\n",
            "Столбец ram_Encrypted Расшифрован\n",
            "Файл сохранен: /content/drive/MyDrive/Laptop_desecured.csv\n"
          ]
        }
      ]
    }
  ]
}